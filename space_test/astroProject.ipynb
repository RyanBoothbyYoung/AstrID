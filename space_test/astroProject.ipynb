{
 "cells": [
  {
   "cell_type": "code",
   "execution_count": 1,
   "metadata": {},
   "outputs": [],
   "source": [
    "from astroquery.skyview import SkyView\n",
    "from astroquery.mast import Observations\n",
    "from astroquery.vizier import Vizier\n",
    "from astropy.wcs import WCS\n",
    "import astropy.units as u\n",
    "from astropy.coordinates import SkyCoord\n",
    "import matplotlib.pyplot as plt\n",
    "import cv2\n",
    "import numpy as np\n",
    "from astropy.io import fits\n",
    "import os\n",
    "import pandas as pd\n",
    "import requests\n",
    "import json"
   ]
  },
  {
   "cell_type": "code",
   "execution_count": 2,
   "metadata": {},
   "outputs": [],
   "source": [
    "# # List available surveys\n",
    "# surveys = SkyView.list_surveys()\n",
    "# print(surveys)"
   ]
  },
  {
   "cell_type": "code",
   "execution_count": 3,
   "metadata": {},
   "outputs": [],
   "source": [
    "# Define the coordinates for the Eagle Nebula Pillars of Creation\n",
    "coords = SkyCoord('18h18m48s -13d49m00s', frame='icrs')\n",
    "# Track the name of the object\n",
    "object_name = 'Eagle Nebula Pillars of Creation'"
   ]
  },
  {
   "cell_type": "code",
   "execution_count": 4,
   "metadata": {},
   "outputs": [],
   "source": [
    "# # Define the coordinates for the M87 Black Hole\n",
    "# coords = SkyCoord('12h30m49.42338s +12°23m28.0439s', frame='icrs')\n",
    "# # Track the name of the object\n",
    "# object_name = 'M87 Black Hole'"
   ]
  },
  {
   "cell_type": "code",
   "execution_count": 5,
   "metadata": {},
   "outputs": [],
   "source": [
    "# # Define the coordinates for the Crab Nebula\n",
    "# coords = SkyCoord('05h34m31.94s +22d00m52.2s', frame='icrs')\n",
    "# # Track the name of the object\n",
    "# object_name = 'Crab Nebula'"
   ]
  },
  {
   "cell_type": "code",
   "execution_count": 6,
   "metadata": {},
   "outputs": [],
   "source": [
    "# # Define the coordinates for the Orion Nebula\n",
    "# coords = SkyCoord('05h35m17.3s -05d23m28s', frame='icrs')\n",
    "# # Track the name of the object\n",
    "# object_name = 'Orion Nebula'"
   ]
  },
  {
   "cell_type": "code",
   "execution_count": 7,
   "metadata": {},
   "outputs": [],
   "source": [
    "# Fetch an image from SkyView\n",
    "# image_list = SkyView.get_images(position=coords, survey=['DSS'], radius=0.1 * u.deg)\n",
    "# image_list = SkyView.get_images(position=coords, survey=['DSS'], radius=0.25 * u.deg)\n",
    "# image_list = SkyView.get_images(position=coords, survey=['DSS'], radius=0.5 * u.deg)\n",
    "# image_list = SkyView.get_images(position=coords, survey=['DSS'], radius=1 * u.deg)\n",
    "\n",
    "image_list = SkyView.get_images(position=coords, survey=['DSS1 Blue'], radius=0.25 * u.deg)\n",
    "# image_list = SkyView.get_images(position=coords, survey=['DSS1 Red'], radius=0.25 * u.deg)\n",
    "# image_list = SkyView.get_images(position=coords, survey=['DSS2 Red'], radius=0.25 * u.deg)\n",
    "\n",
    "image_hdu = image_list[0][0]\n",
    "image = image_list[0][0].data"
   ]
  },
  {
   "cell_type": "code",
   "execution_count": 8,
   "metadata": {},
   "outputs": [],
   "source": [
    "# Create a folder for the object with the name of the object with underscores instead of spaces\n",
    "object_name = object_name.replace(' ', '_')\n",
    "os.makedirs(f'images/{object_name}', exist_ok=True)"
   ]
  },
  {
   "cell_type": "code",
   "execution_count": 9,
   "metadata": {},
   "outputs": [],
   "source": [
    "# # Save the image as a FITS file\n",
    "# fits_file_path = f'images/{object_name}/{object_name}.fits'\n",
    "# hdu = fits.PrimaryHDU(image)\n",
    "# hdul = fits.HDUList([hdu])\n",
    "# hdul.writeto(fits_file_path, overwrite=True)"
   ]
  },
  {
   "cell_type": "code",
   "execution_count": 10,
   "metadata": {},
   "outputs": [],
   "source": [
    "# # Display the image\n",
    "# plt.imshow(image, cmap='gray')"
   ]
  },
  {
   "cell_type": "code",
   "execution_count": 11,
   "metadata": {},
   "outputs": [],
   "source": [
    "# # Download the image in all available color maps to the object folder\n",
    "# for cmap in plt.colormaps():\n",
    "#     plt.imsave(f'images/{object_name}/{object_name}_{cmap}.png', image, cmap=cmap)"
   ]
  },
  {
   "cell_type": "code",
   "execution_count": 12,
   "metadata": {},
   "outputs": [],
   "source": [
    "# # Visualize al color maps in a single image\n",
    "# fig, ax = plt.subplots(1, 1, figsize=(12, 12))\n",
    "# for i, cmap in enumerate(plt.colormaps()):\n",
    "#     ax.imshow(image, cmap=cmap)\n",
    "#     ax.set_title(cmap)\n",
    "#     plt.axis('off')\n",
    "#     plt.savefig(f'images/{object_name}/All_cmaps__{object_name}.png')"
   ]
  },
  {
   "cell_type": "code",
   "execution_count": null,
   "metadata": {},
   "outputs": [],
   "source": [
    "image_hdu.header"
   ]
  },
  {
   "cell_type": "code",
   "execution_count": null,
   "metadata": {},
   "outputs": [],
   "source": [
    "# Extract WCS information\n",
    "wcs = WCS(image_hdu.header)\n",
    "\n",
    "# Display the image with WCS projection and grid\n",
    "fig = plt.figure(figsize=(10, 10), dpi=600)\n",
    "ax = fig.add_subplot(111, projection=wcs)\n",
    "ax.imshow(image_hdu.data, cmap='gray', origin='lower')\n",
    "ax.set_title(f'{object_name}')\n",
    "ax.set_xlabel('RA')\n",
    "ax.set_ylabel('Dec')\n",
    "ax.grid(color='white', ls='dotted')\n",
    "\n",
    "\n",
    "# # Display the image without WCS projection\n",
    "# plt.imshow(image, cmap='gray')\n",
    "# plt.title('Sky Image')\n",
    "# plt.xlabel('RA')\n",
    "# plt.ylabel('Dec')\n",
    "# plt.show()"
   ]
  },
  {
   "cell_type": "code",
   "execution_count": null,
   "metadata": {},
   "outputs": [],
   "source": [
    "# Display the image with WCS projection and grid\n",
    "fig = plt.figure(figsize=(14, 14), dpi=600)\n",
    "ax = fig.add_subplot(111, projection=wcs)\n",
    "ax.imshow(image_hdu.data, cmap='twilight_shifted_r', origin='lower')\n",
    "ax.set_title(f'{object_name}')\n",
    "ax.set_xlabel('RA')\n",
    "ax.set_ylabel('Dec')\n",
    "ax.grid(color='white', ls='dotted')"
   ]
  },
  {
   "cell_type": "code",
   "execution_count": null,
   "metadata": {},
   "outputs": [],
   "source": [
    "# Fetch star data from Vizier using the 2MASS catalog\n",
    "v = Vizier(columns=['*'])\n",
    "v.ROW_LIMIT = -1\n",
    "catalog_list = v.query_region(coords, radius=0.35 * u.deg, catalog='II/246')\n",
    "catalog = catalog_list[0]\n",
    "\n",
    "# Convert the table to a pandas DataFrame for easier manipulation\n",
    "catalog = catalog.to_pandas()\n",
    "print(catalog)\n",
    "\n",
    "# Save the catalog as a CSV file\n",
    "catalog.to_csv(f'images/{object_name}/2MASS_catalog_{object_name}.csv', index=False)"
   ]
  },
  {
   "cell_type": "code",
   "execution_count": null,
   "metadata": {},
   "outputs": [],
   "source": [
    "# Finding the pixel coordinates of a star in the image\n",
    "\n",
    "from astropy.coordinates import SkyCoord  # High-level coordinates\n",
    "from astropy.coordinates import ICRS, Galactic, FK4, FK5  # Low-level frames\n",
    "from astropy.coordinates import Angle, Latitude, Longitude  # Angles\n",
    "import astropy.units as u\n",
    "\n",
    "# Extract WCS information from image\n",
    "wcs = WCS(image_hdu.header)\n",
    "\n",
    "print('*' * 10)\n",
    "\n",
    "print(\"Testing with manually translated coordinates: \")\n",
    "# 18184798-1354388 = 18h18m47.98s -13d54m38.8s\n",
    "# c = SkyCoord(\"18h18m47.98s -13d54m38.8s\", frame=ICRS)\n",
    "\n",
    "# 18184744-1354414 = 18h18m47s -13d54m41s\n",
    "# c = SkyCoord(\"18h18m47.44s -13d54m41.4s\", frame=ICRS)\n",
    "\n",
    "# 18190221-1353284 = 18h19m02.21s -13d53m28.4s\n",
    "c = SkyCoord(\"18h19m02.21s -13d53m28.4s\", frame=ICRS)\n",
    "\n",
    "test_pixel_coords = wcs.world_to_pixel(c)\n",
    "print('Pixel Coords:', test_pixel_coords)\n",
    "\n",
    "# Function that takes a wcs object and returns an array of the range of ICRS coordinates in the image\n",
    "def getCoordRangeFromPixels(wcs):\n",
    "\n",
    "    x_dim = wcs.pixel_shape[0] # May need to swap x and y dim! (but I think it's right...)\n",
    "    y_dim = wcs.pixel_shape[1]\n",
    "\n",
    "    coord_range = {}\n",
    "\n",
    "    coord_range['lower_left'] = wcs.all_pix2world([0], [0], 1)\n",
    "    coord_range['lower_right'] = wcs.all_pix2world([x_dim], [0], 1)\n",
    "    coord_range['upper_left'] = wcs.all_pix2world([0], [y_dim], 1)\n",
    "    coord_range['upper_right'] = wcs.all_pix2world([x_dim], [y_dim], 1)\n",
    "    \n",
    "    return coord_range\n",
    "\n",
    "\n",
    "range = getCoordRangeFromPixels(wcs)\n",
    "print('RANGE:', range)\n",
    "\n",
    "print('*' * 10)\n",
    "\n",
    "# NOTE: X Max and min are reversed for some reason.. orientation of image in coord system...?\n",
    "\n",
    "x_max = range['lower_left'][0]\n",
    "x_min = range['lower_right'][0]\n",
    "\n",
    "y_min = range['lower_left'][1]\n",
    "y_max = range['upper_left'][1]\n",
    "\n",
    "\n",
    "def getStarsInImage(wcs, catalog):\n",
    "\n",
    "    stars_in_image = []\n",
    "\n",
    "    print(\"Number of stars in catalog query: \", len(catalog))\n",
    "    \n",
    "    for star in catalog.iterrows(): \n",
    "\n",
    "        # print('STAR:\\n', star[1][0]) # REJ2000\n",
    "        # print('STAR:\\n', star[1][1]) # DEJ2000\n",
    "\n",
    "        rej = star[1][0]\n",
    "        dej = star[1][1]\n",
    "\n",
    "        if rej < x_max and rej > x_min: \n",
    "\n",
    "            # print('Star is in x-coords')\n",
    "\n",
    "            if dej < y_max and dej > y_min: \n",
    "\n",
    "                # Then star is within bounds of image! Add it to a list of stars in the image\n",
    "                # print('Star is in y-coords')\n",
    "\n",
    "                stars_in_image.append(star)\n",
    "\n",
    "\n",
    "    return stars_in_image\n",
    "\n",
    "\n",
    "stars_in_image = getStarsInImage(wcs, catalog)\n",
    "# print(\"Stars in image: \", stars_in_image)\n",
    "print(\"Number of cataloged stars in image: \", len(stars_in_image))\n",
    "\n",
    "# print(300 **2)\n",
    "\n",
    "print('*' * 15)\n",
    "\n",
    "\n",
    "# Get a star from the catalog and convert is coords to pixel coords\n",
    "def getPixelCoordsFromStar(star):\n",
    "\n",
    "    star_coords = star[1]['_2MASS']\n",
    "\n",
    "    def parseStarCoords(coords):\n",
    "\n",
    "        if '-' in coords:\n",
    "\n",
    "            rej, dej = coords.split('-')\n",
    "            rej = rej[0:2] + 'h' + rej[2:4] + 'm' + rej[4:6] + '.' + rej[6:] + 's'\n",
    "            dej = '-' + dej[0:2] + 'd' + dej[2:4] + 'm' + dej[4:6] + '.' + dej[6:] + 's'\n",
    "\n",
    "        elif '+' in coords:\n",
    "\n",
    "            rej, dej = coords.split('+')\n",
    "            rej = rej[0:2] + 'h' + rej[2:4] + 'm' + rej[4:6] + '.' + rej[6:] + 's'\n",
    "            dej = '+' + dej[0:2] + 'd' + dej[2:4] + 'm' + dej[4:6] + '.' + dej[6:] + 's'\n",
    "\n",
    "        # print('COORDS:', rej + ' ' + dej)\n",
    "\n",
    "        return rej + dej\n",
    "    \n",
    "    coords = parseStarCoords(star_coords)\n",
    "\n",
    "    # c = SkyCoord(\"18h19m02.21s -13d53m28.4s\", frame=ICRS)\n",
    "    c = SkyCoord(coords, frame=ICRS)\n",
    "\n",
    "    pixel_coords = wcs.world_to_pixel(c)\n",
    "    # print('Pixel Coords:', pixel_coords)\n",
    "    return pixel_coords\n",
    "\n",
    "pixel_coords = getPixelCoordsFromStar(stars_in_image[1])\n"
   ]
  },
  {
   "cell_type": "code",
   "execution_count": null,
   "metadata": {},
   "outputs": [],
   "source": [
    "# Display the image with the location of the star above circled\n",
    "\n",
    "fig = plt.figure(figsize=(7, 7))\n",
    "ax = fig.add_subplot(111, projection=wcs)\n",
    "\n",
    "Drawing_colored_circle = plt.Circle(( test_pixel_coords[0] , test_pixel_coords[1] ), 3, fill=False, edgecolor='Blue')\n",
    "ax.add_artist( Drawing_colored_circle )\n",
    "ax.imshow(image_hdu.data, cmap='gray', origin='lower')\n",
    "ax.set_title(f'{object_name}')\n",
    "ax.set_xlabel('RA')\n",
    "ax.set_ylabel('Dec')\n",
    "ax.grid(color='white', ls='dotted')"
   ]
  },
  {
   "cell_type": "code",
   "execution_count": null,
   "metadata": {},
   "outputs": [],
   "source": [
    "# Display the image with the location of the star above circled\n",
    "\n",
    "fig = plt.figure(figsize=(7, 7))\n",
    "ax = fig.add_subplot(111, projection=wcs)\n",
    "\n",
    "for star in stars_in_image: \n",
    "\n",
    "    pixel_coords = getPixelCoordsFromStar(star)\n",
    "    # print('PIXEL COORDS: ', pixel_coords)\n",
    "\n",
    "    Drawing_colored_circle = plt.Circle(( pixel_coords[0] , pixel_coords[1] ), 0.1, fill=False, edgecolor='Blue')\n",
    "    ax.add_artist( Drawing_colored_circle )\n",
    "    ax.set_title(f'{object_name}')\n",
    "    ax.set_xlabel('RA')\n",
    "    ax.set_ylabel('Dec')\n",
    "    ax.grid(color='white', ls='dotted')\n",
    "\n",
    "ax.imshow(image_hdu.data, cmap='gray', origin='lower')"
   ]
  },
  {
   "cell_type": "code",
   "execution_count": 19,
   "metadata": {},
   "outputs": [],
   "source": [
    "# # Fetch star data from Vizier using the Hipparcos catalog\n",
    "# v = Vizier(columns=['*'])\n",
    "# catalog_list = v.query_region(coords, radius=2 * u.deg, catalog='I/239/hip_main')\n",
    "# catalog = catalog_list[0]\n",
    "\n",
    "# # Convert the table to a pandas DataFrame for easier manipulation\n",
    "# catalog = catalog.to_pandas()\n",
    "# print(catalog)\n",
    "\n",
    "# # Save the catalog as a CSV file\n",
    "# catalog.to_csv(f'images/{object_name}/Hipparcos_catalog_{object_name}.csv', index=False)"
   ]
  },
  {
   "cell_type": "code",
   "execution_count": 39,
   "metadata": {},
   "outputs": [],
   "source": [
    "# # Example preprocessing steps\n",
    "# # Normalize the image\n",
    "# normalized_image = (image - np.min(image)) / (np.max(image) - np.min(image))"
   ]
  },
  {
   "cell_type": "code",
   "execution_count": 40,
   "metadata": {},
   "outputs": [],
   "source": [
    "# # Extract star positions and magnitudes\n",
    "# star_positions = np.array([stars['RAJ2000'], stars['DEJ2000']]).T\n",
    "# star_magnitudes = stars['Vmag']"
   ]
  },
  {
   "cell_type": "code",
   "execution_count": 41,
   "metadata": {},
   "outputs": [],
   "source": [
    "# # Save preprocessed data for further analysis\n",
    "# np.save('preprocessed_image.npy', normalized_image)\n",
    "# star_data = pd.DataFrame({'RA': stars['RAJ2000'], 'Dec': stars['DEJ2000'], 'Magnitude': stars['Vmag']})\n",
    "# star_data.to_csv('preprocessed_star_data.csv', index=False)"
   ]
  },
  {
   "cell_type": "code",
   "execution_count": 42,
   "metadata": {},
   "outputs": [],
   "source": [
    "# # Save the image using OpenCV\n",
    "# cv2.imwrite('sky_image.png', image)"
   ]
  }
 ],
 "metadata": {
  "kernelspec": {
   "display_name": "venv",
   "language": "python",
   "name": "python3"
  },
  "language_info": {
   "codemirror_mode": {
    "name": "ipython",
    "version": 3
   },
   "file_extension": ".py",
   "mimetype": "text/x-python",
   "name": "python",
   "nbconvert_exporter": "python",
   "pygments_lexer": "ipython3",
   "version": "3.12.2"
  }
 },
 "nbformat": 4,
 "nbformat_minor": 2
}
