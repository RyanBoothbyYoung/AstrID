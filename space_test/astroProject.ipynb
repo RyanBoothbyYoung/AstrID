{
 "cells": [
  {
   "cell_type": "code",
   "execution_count": 1,
   "metadata": {},
   "outputs": [],
   "source": [
    "from astroquery.skyview import SkyView\n",
    "from astroquery.mast import Observations\n",
    "from astroquery.vizier import Vizier\n",
    "from astropy.wcs import WCS\n",
    "import astropy.units as u\n",
    "from astropy.coordinates import SkyCoord\n",
    "import matplotlib.pyplot as plt\n",
    "import cv2\n",
    "import numpy as np\n",
    "from astropy.io import fits\n",
    "import os\n",
    "import pandas as pd\n",
    "import requests\n",
    "import json"
   ]
  },
  {
   "cell_type": "code",
   "execution_count": null,
   "metadata": {},
   "outputs": [],
   "source": [
    "# # List available surveys\n",
    "# surveys = SkyView.list_surveys()\n",
    "# print(surveys)"
   ]
  },
  {
   "cell_type": "code",
   "execution_count": 3,
   "metadata": {},
   "outputs": [],
   "source": [
    "# Define the coordinates for the Eagle Nebula Pillars of Creation\n",
    "coords = SkyCoord('18h18m48s -13d49m00s', frame='icrs')\n",
    "# Track the name of the object\n",
    "object_name = 'Eagle Nebula Pillars of Creation'"
   ]
  },
  {
   "cell_type": "code",
   "execution_count": 4,
   "metadata": {},
   "outputs": [],
   "source": [
    "# Fetch an image from SkyView\n",
    "# image_list = SkyView.get_images(position=coords, survey=['DSS'], radius=0.1 * u.deg)\n",
    "# image_list = SkyView.get_images(position=coords, survey=['DSS'], radius=0.25 * u.deg)\n",
    "# image_list = SkyView.get_images(position=coords, survey=['DSS'], radius=0.5 * u.deg)\n",
    "# image_list = SkyView.get_images(position=coords, survey=['DSS'], radius=1 * u.deg)\n",
    "\n",
    "image_list = SkyView.get_images(position=coords, survey=['DSS1 Blue'], radius=0.25 * u.deg)\n",
    "# image_list = SkyView.get_images(position=coords, survey=['DSS1 Red'], radius=0.25 * u.deg)\n",
    "# image_list = SkyView.get_images(position=coords, survey=['DSS2 Red'], radius=0.25 * u.deg)\n",
    "\n",
    "image_hdu = image_list[0][0]\n",
    "image = image_list[0][0].data"
   ]
  },
  {
   "cell_type": "code",
   "execution_count": 5,
   "metadata": {},
   "outputs": [],
   "source": [
    "# Create a folder for the object with the name of the object with underscores instead of spaces\n",
    "object_name = object_name.replace(' ', '_')\n",
    "os.makedirs(f'images/{object_name}', exist_ok=True)"
   ]
  },
  {
   "cell_type": "code",
   "execution_count": null,
   "metadata": {},
   "outputs": [],
   "source": [
    "image_hdu.header"
   ]
  },
  {
   "cell_type": "code",
   "execution_count": null,
   "metadata": {},
   "outputs": [],
   "source": [
    "# Extract WCS information\n",
    "wcs = WCS(image_hdu.header)\n",
    "\n",
    "# Display the image with WCS projection and grid\n",
    "fig = plt.figure(figsize=(10, 10), dpi=600)\n",
    "ax = fig.add_subplot(111, projection=wcs)\n",
    "ax.imshow(image_hdu.data, cmap='gray', origin='lower')\n",
    "ax.set_title(f'{object_name}')\n",
    "ax.set_xlabel('RA')\n",
    "ax.set_ylabel('Dec')\n",
    "ax.grid(color='white', ls='dotted')\n"
   ]
  },
  {
   "cell_type": "code",
   "execution_count": null,
   "metadata": {},
   "outputs": [],
   "source": [
    "# Display the image with WCS projection and grid\n",
    "fig = plt.figure(figsize=(14, 14), dpi=600)\n",
    "ax = fig.add_subplot(111, projection=wcs)\n",
    "ax.imshow(image_hdu.data, cmap='twilight_shifted_r', origin='lower')\n",
    "ax.set_title(f'{object_name}')\n",
    "ax.set_xlabel('RA')\n",
    "ax.set_ylabel('Dec')\n",
    "ax.grid(color='white', ls='dotted')"
   ]
  },
  {
   "cell_type": "code",
   "execution_count": null,
   "metadata": {},
   "outputs": [],
   "source": []
  },
  {
   "cell_type": "code",
   "execution_count": null,
   "metadata": {},
   "outputs": [],
   "source": [
    "# Fetch star data from Vizier using the 2MASS catalog\n",
    "v = Vizier(columns=['*'])\n",
    "catalog_list = v.query_region(coords, radius=0.1 * u.deg, catalog='II/246')\n",
    "catalog = catalog_list[0]\n",
    "\n",
    "# Convert the table to a pandas DataFrame for easier manipulation\n",
    "catalog = catalog.to_pandas()\n",
    "print(catalog)\n",
    "\n",
    "# Save the catalog as a CSV file\n",
    "catalog.to_csv(f'images/{object_name}/2MASS_catalog_{object_name}.csv', index=False)"
   ]
  },
  {
   "cell_type": "code",
   "execution_count": null,
   "metadata": {},
   "outputs": [],
   "source": [
    "# Finding the pixel coordinates of a star in the image\n",
    "\n",
    "from astropy.coordinates import SkyCoord  # High-level coordinates\n",
    "from astropy.coordinates import ICRS, Galactic, FK4, FK5  # Low-level frames\n",
    "from astropy.coordinates import Angle, Latitude, Longitude  # Angles\n",
    "import astropy.units as u\n",
    "\n",
    "# Extract WCS information from image\n",
    "wcs = WCS(image_hdu.header)\n",
    "\n",
    "# Function that takes a wcs object and returns an array of the range of ICRS coordinates in the image\n",
    "def getCoordRangeFromPixels(wcs):\n",
    "\n",
    "    x_dim = wcs.pixel_shape[0] # May need to swap x and y dim! (but I think it's right...)\n",
    "    y_dim = wcs.pixel_shape[1]\n",
    "\n",
    "    coord_range = {}\n",
    "\n",
    "    coord_range['lower_left'] = wcs.all_pix2world([0], [0], 1)\n",
    "    coord_range['lower_right'] = wcs.all_pix2world([x_dim], [0], 1)\n",
    "    coord_range['upper_left'] = wcs.all_pix2world([0], [y_dim], 1)\n",
    "    coord_range['upper_right'] = wcs.all_pix2world([x_dim], [y_dim], 1)\n",
    "    \n",
    "    return coord_range\n",
    "\n",
    "\n",
    "range = getCoordRangeFromPixels(wcs)\n",
    "print('RANGE:', range)\n",
    "\n",
    "print('*' * 10)\n",
    "\n",
    "print(\"Testing with manually translated coordinates: \")\n",
    "# 18184798-1354388 = 18h18m47.98s -13d54m38.8s\n",
    "# c = SkyCoord(\"18h18m47.98s -13d54m38.8s\", frame=ICRS)\n",
    "\n",
    "# 18184744-1354414 = 18h18m47s -13d54m41s\n",
    "# c = SkyCoord(\"18h18m47.44s -13d54m41.4s\", frame=ICRS)\n",
    "\n",
    "# 18190221-1353284 = 18h19m02.21s -13d53m28.4s\n",
    "c = SkyCoord(\"18h19m02.21s -13d53m28.4s\", frame=ICRS)\n",
    "\n",
    "pixel_coords = wcs.world_to_pixel(c)\n",
    "print('Pixel Coords:', pixel_coords)"
   ]
  },
  {
   "cell_type": "code",
   "execution_count": null,
   "metadata": {},
   "outputs": [],
   "source": [
    "# Display the image with the location of the star above circled\n",
    "\n",
    "fig = plt.figure(figsize=(7, 7))\n",
    "ax = fig.add_subplot(111, projection=wcs)\n",
    "\n",
    "Drawing_colored_circle = plt.Circle(( pixel_coords[0] , pixel_coords[1] ), 3, fill=False, edgecolor='Blue')\n",
    "ax.add_artist( Drawing_colored_circle )\n",
    "ax.imshow(image_hdu.data, cmap='gray', origin='lower')\n",
    "ax.set_title(f'{object_name}')\n",
    "ax.set_xlabel('RA')\n",
    "ax.set_ylabel('Dec')\n",
    "ax.grid(color='white', ls='dotted')"
   ]
  },
  {
   "cell_type": "code",
   "execution_count": null,
   "metadata": {},
   "outputs": [],
   "source": [
    "# # Fetch star data from Vizier using the Hipparcos catalog\n",
    "# v = Vizier(columns=['*'])\n",
    "# catalog_list = v.query_region(coords, radius=2 * u.deg, catalog='I/239/hip_main')\n",
    "# catalog = catalog_list[0]\n",
    "\n",
    "# # Convert the table to a pandas DataFrame for easier manipulation\n",
    "# catalog = catalog.to_pandas()\n",
    "# print(catalog)\n",
    "\n",
    "# # Save the catalog as a CSV file\n",
    "# catalog.to_csv(f'images/{object_name}/Hipparcos_catalog_{object_name}.csv', index=False)"
   ]
  },
  {
   "cell_type": "code",
   "execution_count": 10,
   "metadata": {},
   "outputs": [],
   "source": [
    "# # Example preprocessing steps\n",
    "# # Normalize the image\n",
    "# normalized_image = (image - np.min(image)) / (np.max(image) - np.min(image))"
   ]
  },
  {
   "cell_type": "code",
   "execution_count": 11,
   "metadata": {},
   "outputs": [],
   "source": [
    "# # Extract star positions and magnitudes\n",
    "# star_positions = np.array([stars['RAJ2000'], stars['DEJ2000']]).T\n",
    "# star_magnitudes = stars['Vmag']"
   ]
  },
  {
   "cell_type": "code",
   "execution_count": 12,
   "metadata": {},
   "outputs": [],
   "source": [
    "# # Save preprocessed data for further analysis\n",
    "# np.save('preprocessed_image.npy', normalized_image)\n",
    "# star_data = pd.DataFrame({'RA': stars['RAJ2000'], 'Dec': stars['DEJ2000'], 'Magnitude': stars['Vmag']})\n",
    "# star_data.to_csv('preprocessed_star_data.csv', index=False)"
   ]
  },
  {
   "cell_type": "code",
   "execution_count": 13,
   "metadata": {},
   "outputs": [],
   "source": [
    "# # Save the image using OpenCV\n",
    "# cv2.imwrite('sky_image.png', image)"
   ]
  }
 ],
 "metadata": {
  "kernelspec": {
   "display_name": ".venv",
   "language": "python",
   "name": "python3"
  },
  "language_info": {
   "codemirror_mode": {
    "name": "ipython",
    "version": 3
   },
   "file_extension": ".py",
   "mimetype": "text/x-python",
   "name": "python",
   "nbconvert_exporter": "python",
   "pygments_lexer": "ipython3",
   "version": "3.10.12"
  }
 },
 "nbformat": 4,
 "nbformat_minor": 2
}
