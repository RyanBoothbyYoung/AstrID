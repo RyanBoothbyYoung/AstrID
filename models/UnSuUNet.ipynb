{
 "cells": [
  {
   "cell_type": "markdown",
   "id": "f51c6a31-0548-4f9f-b1ca-2652f2caadde",
   "metadata": {},
   "source": [
    "## UnSu Unet Object Localization"
   ]
  },
  {
   "cell_type": "code",
   "execution_count": 3,
   "id": "6d8c9b41-da1a-431e-8133-f228618ec132",
   "metadata": {},
   "outputs": [],
   "source": [
    "import tensorflow as tf\n",
    "from tensorflow import keras\n",
    "from tensorflow.keras import layers, models\n",
    "from tensorflow.keras.preprocessing import image\n",
    "from tensorflow.keras.initializers import he_uniform\n",
    "\n",
    "import numpy as np"
   ]
  },
  {
   "cell_type": "code",
   "execution_count": 2,
   "id": "72fd15c0-1e0f-4bfc-98a2-6fb199dc35a0",
   "metadata": {},
   "outputs": [],
   "source": [
    "input_shape = (300,300,3)"
   ]
  },
  {
   "cell_type": "code",
   "execution_count": null,
   "id": "9c32043a-b07f-4121-abd4-45bbdd2db5ae",
   "metadata": {},
   "outputs": [],
   "source": [
    "\n",
    "\n",
    "def unet_model(input_shape):\n",
    "    inputs = layers.Input(shape=input_shape)\n",
    "    \n",
    "    # Encoder path\n",
    "    #32 kernels\n",
    "    #3x3 kernel size\n",
    "    #padding = same considers edges in the input\n",
    "   def unet_model(input_shape):\n",
    "    inputs = layers.Input(shape=input_shape)\n",
    "    \n",
    "    # Encoder path\n",
    "    c1 = layers.Conv2D(32, (3, 3), activation='relu', padding='same', kernel_initializer=he_uniform())(inputs)\n",
    "    c1 = layers.Conv2D(32, (3, 3), activation='relu', padding='same', kernel_initializer=he_uniform())(c1)\n",
    "    p1 = layers.MaxPooling2D((2, 2))(c1)\n",
    "\n",
    "    c2 = layers.Conv2D(64, (3, 3), activation='relu', padding='same', kernel_initializer=he_uniform())(p1)\n",
    "    c2 = layers.Conv2D(64, (3, 3), activation='relu', padding='same', kernel_initializer=he_uniform())(c2)\n",
    "    p2 = layers.MaxPooling2D((2, 2))(c2)\n",
    "\n",
    "    c3 = layers.Conv2D(128, (3, 3), activation='relu', padding='same', kernel_initializer=he_uniform())(p2)\n",
    "    c3 = layers.Conv2D(128, (3, 3), activation='relu', padding='same', kernel_initializer=he_uniform())(c3)\n",
    "    p3 = layers.MaxPooling2D((2, 2))(c3)\n",
    "\n",
    "    c4 = layers.Conv2D(256, (3, 3), activation='relu', padding='same', kernel_initializer=he_uniform())(p3)\n",
    "    c4 = layers.Conv2D(256, (3, 3), activation='relu', padding='same', kernel_initializer=he_uniform())(c4)\n",
    "    p4 = layers.MaxPooling2D((2, 2))(c4)\n",
    "\n",
    "    # Bottleneck\n",
    "    c5 = layers.Conv2D(512, (3, 3), activation='relu', padding='same', kernel_initializer=he_uniform())(p4)\n",
    "    c5 = layers.Conv2D(512, (3, 3), activation='relu', padding='same', kernel_initializer=he_uniform())(c5)\n",
    "\n",
    "    # Decoder path\n",
    "    u6 = layers.Conv2DTranspose(256, (2, 2), strides=(2, 2), padding='same')(c5)\n",
    "    u6 = layers.concatenate([u6, c4])\n",
    "    c6 = layers.Conv2D(256, (3, 3), activation='relu', padding='same', kernel_initializer=he_uniform())(u6)\n",
    "    c6 = layers.Conv2D(256, (3, 3), activation='relu', padding='same', kernel_initializer=he_uniform())(c6)\n",
    "\n",
    "    u7 = layers.Conv2DTranspose(128, (2, 2), strides=(2, 2), padding='same')(c6)\n",
    "    u7 = layers.concatenate([u7, c3])\n",
    "    c7 = layers.Conv2D(128, (3, 3), activation='relu', padding='same', kernel_initializer=he_uniform())(u7)\n",
    "    c7 = layers.Conv2D(128, (3, 3), activation='relu', padding='same', kernel_initializer=he_uniform())(c7)\n",
    "\n",
    "    u8 = layers.Conv2DTranspose(64, (2, 2), strides=(2, 2), padding='same')(c7)\n",
    "    u8 = layers.concatenate([u8, c2])\n",
    "    c8 = layers.Conv2D(64, (3, 3), activation='relu', padding='same', kernel_initializer=he_uniform())(u8)\n",
    "    c8 = layers.Conv2D(64, (3, 3), activation='relu', padding='same', kernel_initializer=he_uniform())(c8)\n",
    "\n",
    "    u9 = layers.Conv2DTranspose(32, (2, 2), strides=(2, 2), padding='same')(c8)\n",
    "    u9 = layers.concatenate([u9, c1])\n",
    "    c9 = layers.Conv2D(32, (3, 3), activation='relu', padding='same', kernel_initializer=he_uniform())(u9)\n",
    "    c9 = layers.Conv2D(32, (3, 3), activation='relu', padding='same', kernel_initializer=he_uniform())(c9)\n",
    "\n",
    "    outputs = layers.Conv2D(1, (1, 1), activation='sigmoid')(c9) # 300x300x1 filled with 1s or 0s\n",
    "\n",
    "    model = models.Model(inputs=[inputs], outputs=[outputs])\n",
    "    return model\n"
   ]
  },
  {
   "cell_type": "code",
   "execution_count": null,
   "id": "acbed904-3619-4aa4-9a18-6da8d95f367c",
   "metadata": {},
   "outputs": [],
   "source": [
    "\n",
    "model = unet_model(input_shape)\n",
    "model.compile(\n",
    "    optimizer='adam', \n",
    "    loss='binary_crossentropy', \n",
    "    metrics=['accuracy']\n",
    ")"
   ]
  },
  {
   "cell_type": "code",
   "execution_count": null,
   "id": "60f9aac3-773f-42a4-9ef7-445917129f52",
   "metadata": {},
   "outputs": [],
   "source": [
    "# train_images and train_masks are training data and masks"
   ]
  },
  {
   "cell_type": "code",
   "execution_count": null,
   "id": "6c847e17-f0ad-4354-9dff-62a7cd6bcda5",
   "metadata": {},
   "outputs": [],
   "source": [
    "history = model.fit(train_images, train_masks, \n",
    "                    validation_data=(val_images, val_masks), \n",
    "                    epochs=100, \n",
    "                    batch_size=32)"
   ]
  },
  {
   "cell_type": "code",
   "execution_count": null,
   "id": "322ff4ef-a8b3-4b9f-af7b-cdf0c5437e2f",
   "metadata": {},
   "outputs": [],
   "source": [
    "\n",
    "\n",
    "\n",
    "# Set a larger figure size\n",
    "plt.figure(figsize=(10, 6))\n",
    "\n",
    "# Plot the training and validation loss\n",
    "plt.plot(history.history['loss'], color='blue', linestyle='-', linewidth=2, label='Training Loss')\n",
    "plt.plot(history.history['val_loss'], color='orange', linestyle='--', linewidth=2, label='Validation Loss')\n",
    "\n",
    "# Add title and labels\n",
    "plt.title('Training and Validation Loss Over Epochs', fontsize=16)\n",
    "plt.xlabel('Epochs', fontsize=14)\n",
    "plt.ylabel('Loss', fontsize=14)\n",
    "\n",
    "# Add a grid for better readability\n",
    "plt.grid(True, which='both', linestyle='--', linewidth=0.5)\n",
    "\n",
    "# Add legend to differentiate between training and validation loss\n",
    "plt.legend(loc='best', fontsize=12)\n",
    "\n",
    "# Set limits for better visualization\n",
    "plt.xlim(0, len(history.history['loss']) - 1)  # From epoch 0 to the last epoch\n",
    "plt.ylim(min(history.history['loss']) * 0.95, max(history.history['val_loss']) * 1.05)\n",
    "\n",
    "# Show the plot\n",
    "plt.tight_layout()\n",
    "plt.show()\n"
   ]
  }
 ],
 "metadata": {
  "kernelspec": {
   "display_name": "Python 3 (ipykernel)",
   "language": "python",
   "name": "python3"
  },
  "language_info": {
   "codemirror_mode": {
    "name": "ipython",
    "version": 3
   },
   "file_extension": ".py",
   "mimetype": "text/x-python",
   "name": "python",
   "nbconvert_exporter": "python",
   "pygments_lexer": "ipython3",
   "version": "3.11.5"
  }
 },
 "nbformat": 4,
 "nbformat_minor": 5
}
