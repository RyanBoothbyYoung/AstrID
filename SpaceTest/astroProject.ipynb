{
 "cells": [
  {
   "cell_type": "code",
   "execution_count": 1,
   "metadata": {},
   "outputs": [],
   "source": [
    "from astroquery.skyview import SkyView\n",
    "from astroquery.vizier import Vizier\n",
    "from astropy.wcs import WCS\n",
    "import astropy.units as u\n",
    "from astropy.coordinates import SkyCoord\n",
    "import matplotlib.pyplot as plt\n",
    "import cv2\n",
    "import numpy as np\n",
    "from astropy.io import fits\n",
    "import os\n",
    "import pandas as pd"
   ]
  },
  {
   "cell_type": "code",
   "execution_count": 2,
   "metadata": {},
   "outputs": [],
   "source": [
    "# Define the coordinates for the Eagle Nebula Pillars of Creation\n",
    "coords = SkyCoord('18h18m48s -13d49m00s', frame='icrs')\n",
    "# Track the name of the object\n",
    "object_name = 'Eagle Nebula Pillars of Creation'"
   ]
  },
  {
   "cell_type": "code",
   "execution_count": 71,
   "metadata": {},
   "outputs": [],
   "source": [
    "# Fetch an image from SkyView\n",
    "image_list = SkyView.get_images(position=coords, survey=['DSS'], radius=0.1 * u.deg, pixels=[6000, 6000])\n",
    "image_hdu = image_list[0][0]\n",
    "image = image_list[0][0].data"
   ]
  },
  {
   "cell_type": "code",
   "execution_count": 55,
   "metadata": {},
   "outputs": [],
   "source": [
    "# Create a folder for the object with the name of the object with underscores instead of spaces\n",
    "object_name = object_name.replace(' ', '_')\n",
    "os.makedirs(f'images/{object_name}', exist_ok=True)"
   ]
  },
  {
   "cell_type": "code",
   "execution_count": 56,
   "metadata": {},
   "outputs": [],
   "source": [
    "# Save the image as a FITS file\n",
    "fits_file_path = f'images/{object_name}/{object_name}.fits'\n",
    "hdu = fits.PrimaryHDU(image)\n",
    "hdul = fits.HDUList([hdu])\n",
    "hdul.writeto(fits_file_path, overwrite=True)"
   ]
  },
  {
   "cell_type": "code",
   "execution_count": 57,
   "metadata": {},
   "outputs": [],
   "source": [
    "# # Display the image\n",
    "# plt.imshow(image, cmap='gray')"
   ]
  },
  {
   "cell_type": "code",
   "execution_count": 63,
   "metadata": {},
   "outputs": [],
   "source": [
    "# Download the image in all available color maps to the object folder\n",
    "for cmap in plt.colormaps():\n",
    "    plt.imsave(f'images/{object_name}/{object_name}_{cmap}.png', image, cmap=cmap)"
   ]
  },
  {
   "cell_type": "code",
   "execution_count": 34,
   "metadata": {},
   "outputs": [],
   "source": [
    "# # Visualize al color maps in a single image\n",
    "# fig, ax = plt.subplots(1, 1, figsize=(12, 12))\n",
    "# for i, cmap in enumerate(plt.colormaps()):\n",
    "#     ax.imshow(image, cmap=cmap)\n",
    "#     ax.set_title(cmap)\n",
    "#     plt.axis('off')\n",
    "#     plt.savefig(f'images/{object_name}/All_cmaps__{object_name}.png')"
   ]
  },
  {
   "cell_type": "code",
   "execution_count": null,
   "metadata": {},
   "outputs": [],
   "source": [
    "image_hdu.header"
   ]
  },
  {
   "cell_type": "code",
   "execution_count": null,
   "metadata": {},
   "outputs": [],
   "source": [
    "# Extract WCS information\n",
    "wcs = WCS(image_hdu.header)\n",
    "\n",
    "# Display the image with WCS projection and grid\n",
    "fig = plt.figure(figsize=(14, 14), dpi=600)\n",
    "ax = fig.add_subplot(111, projection=wcs)\n",
    "ax.imshow(image_hdu.data, cmap='gray', origin='lower')\n",
    "ax.set_title(f'{object_name}')\n",
    "ax.set_xlabel('RA')\n",
    "ax.set_ylabel('Dec')\n",
    "ax.grid(color='white', ls='dotted')\n",
    "\n",
    "\n",
    "# # Display the image without WCS projection\n",
    "# plt.imshow(image, cmap='gray')\n",
    "# plt.title('Sky Image')\n",
    "# plt.xlabel('RA')\n",
    "# plt.ylabel('Dec')\n",
    "# plt.show()"
   ]
  },
  {
   "cell_type": "code",
   "execution_count": null,
   "metadata": {},
   "outputs": [],
   "source": [
    "# Display the image with WCS projection and grid\n",
    "fig = plt.figure(figsize=(14, 14), dpi=600)\n",
    "ax = fig.add_subplot(111, projection=wcs)\n",
    "ax.imshow(image_hdu.data, cmap='twilight_shifted_r', origin='lower')\n",
    "ax.set_title(f'{object_name}')\n",
    "ax.set_xlabel('RA')\n",
    "ax.set_ylabel('Dec')\n",
    "ax.grid(color='white', ls='dotted')"
   ]
  },
  {
   "cell_type": "code",
   "execution_count": null,
   "metadata": {},
   "outputs": [],
   "source": [
    "# Fetch star data from Vizier using the 2MASS catalog\n",
    "v = Vizier(columns=['*'])\n",
    "catalog_list = v.query_region(coords, radius=0.4 * u.deg, catalog='II/246')\n",
    "catalog = catalog_list[0]\n",
    "\n",
    "# Convert the table to a pandas DataFrame for easier manipulation\n",
    "catalog = catalog.to_pandas()\n",
    "print(catalog)\n",
    "\n",
    "# Save the catalog as a CSV file\n",
    "catalog.to_csv(f'images/{object_name}/2MASS_catalog_{object_name}.csv', index=False)"
   ]
  },
  {
   "cell_type": "code",
   "execution_count": null,
   "metadata": {},
   "outputs": [],
   "source": [
    "# Fetch star data from Vizier using the Hipparcos catalog\n",
    "v = Vizier(columns=['*'])\n",
    "catalog_list = v.query_region(coords, radius=2 * u.deg, catalog='I/239/hip_main')\n",
    "catalog = catalog_list[0]\n",
    "\n",
    "# Covnert the table to a pandas DataFrame for easier manipulation\n",
    "catalog = catalog.to_pandas()\n",
    "print(catalog)\n",
    "\n",
    "# Save the catalog as a CSV file\n",
    "catalog.to_csv(f'images/{object_name}/Hipparcos_catalog_{object_name}.csv', index=False)"
   ]
  },
  {
   "cell_type": "code",
   "execution_count": 13,
   "metadata": {},
   "outputs": [],
   "source": [
    "# Example preprocessing steps\n",
    "# Normalize the image\n",
    "normalized_image = (image - np.min(image)) / (np.max(image) - np.min(image))"
   ]
  },
  {
   "cell_type": "code",
   "execution_count": null,
   "metadata": {},
   "outputs": [],
   "source": [
    "# Extract star positions and magnitudes\n",
    "star_positions = np.array([stars['RAJ2000'], stars['DEJ2000']]).T\n",
    "star_magnitudes = stars['Vmag']"
   ]
  },
  {
   "cell_type": "code",
   "execution_count": null,
   "metadata": {},
   "outputs": [],
   "source": [
    "# Save preprocessed data for further analysis\n",
    "np.save('preprocessed_image.npy', normalized_image)\n",
    "star_data = pd.DataFrame({'RA': stars['RAJ2000'], 'Dec': stars['DEJ2000'], 'Magnitude': stars['Vmag']})\n",
    "star_data.to_csv('preprocessed_star_data.csv', index=False)"
   ]
  },
  {
   "cell_type": "code",
   "execution_count": null,
   "metadata": {},
   "outputs": [],
   "source": [
    "# Save the image using OpenCV\n",
    "cv2.imwrite('sky_image.png', image)"
   ]
  }
 ],
 "metadata": {
  "kernelspec": {
   "display_name": ".venv",
   "language": "python",
   "name": "python3"
  },
  "language_info": {
   "codemirror_mode": {
    "name": "ipython",
    "version": 3
   },
   "file_extension": ".py",
   "mimetype": "text/x-python",
   "name": "python",
   "nbconvert_exporter": "python",
   "pygments_lexer": "ipython3",
   "version": "3.10.12"
  }
 },
 "nbformat": 4,
 "nbformat_minor": 2
}
